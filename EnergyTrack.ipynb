{
 "cells": [
  {
   "cell_type": "markdown",
   "metadata": {},
   "source": [
    "Energy track Energy Price Tracking Model\n",
    "-input data\n",
    "-BOM weather data\n",
    "-Solar Data for reginal NEM\n",
    "-Historical Price Data\n",
    "-Location Data\n",
    "-Generator operational Data\n",
    "-Location data\n",
    "-Tariff data\n",
    "\n",
    "Model will be run using python "
   ]
  },
  {
   "cell_type": "code",
   "execution_count": null,
   "metadata": {},
   "outputs": [],
   "source": []
  }
 ],
 "metadata": {
  "language_info": {
   "name": "python"
  }
 },
 "nbformat": 4,
 "nbformat_minor": 2
}
